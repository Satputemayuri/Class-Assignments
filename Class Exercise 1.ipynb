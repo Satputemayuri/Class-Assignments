{
 "cells": [
  {
   "cell_type": "markdown",
   "id": "b112edb5",
   "metadata": {},
   "source": [
    "### 1)  What is 7 to the power of 4?"
   ]
  },
  {
   "cell_type": "code",
   "execution_count": 1,
   "id": "3ade636a",
   "metadata": {},
   "outputs": [
    {
     "data": {
      "text/plain": [
       "2401"
      ]
     },
     "execution_count": 1,
     "metadata": {},
     "output_type": "execute_result"
    }
   ],
   "source": [
    "7**4"
   ]
  },
  {
   "cell_type": "markdown",
   "id": "2f937fd6",
   "metadata": {},
   "source": [
    "### 2) Split the string\n",
    "s = \"Hi there Yogesh!\"\n",
    "into list"
   ]
  },
  {
   "cell_type": "code",
   "execution_count": 2,
   "id": "fadf2bdb",
   "metadata": {},
   "outputs": [],
   "source": [
    "s = \"Hi there Yogesh!\""
   ]
  },
  {
   "cell_type": "code",
   "execution_count": 3,
   "id": "082a1cad",
   "metadata": {},
   "outputs": [
    {
     "data": {
      "text/plain": [
       "['Hi', 'there', 'Yogesh!']"
      ]
     },
     "execution_count": 3,
     "metadata": {},
     "output_type": "execute_result"
    }
   ],
   "source": [
    "s.split()"
   ]
  },
  {
   "cell_type": "markdown",
   "id": "295f840f",
   "metadata": {},
   "source": [
    "### 3) ** Given the variables:**\n",
    "\n",
    "planet = \"Earth\"\n",
    "diameter = 12742\n",
    "** Use .format() to print the following string: **\n",
    "\n",
    "The diameter of Earth is 12742 kilometers."
   ]
  },
  {
   "cell_type": "code",
   "execution_count": 5,
   "id": "7d2bd47b",
   "metadata": {},
   "outputs": [],
   "source": [
    "planet = \"Earth\"\n",
    "diameter = 12742"
   ]
  },
  {
   "cell_type": "code",
   "execution_count": 8,
   "id": "d9bf8816",
   "metadata": {},
   "outputs": [
    {
     "name": "stdout",
     "output_type": "stream",
     "text": [
      "The diameter of Earth is 12742 kilometers\n"
     ]
    }
   ],
   "source": [
    "print(\"The diameter of {} is {} kilometers\".format(planet,diameter))"
   ]
  },
  {
   "cell_type": "markdown",
   "id": "eba2e275",
   "metadata": {},
   "source": [
    "### 4) :** Given this nested list, use indexing to grab the word \"hello\" **\n",
    "lst = [1,2,[3,4],[5,[100,200,['hello']],23,11],1,7]"
   ]
  },
  {
   "cell_type": "code",
   "execution_count": 9,
   "id": "e38ee89e",
   "metadata": {},
   "outputs": [],
   "source": [
    "lst = [1,2,[3,4],[5,[100,200,['hello']],23,11],1,7]"
   ]
  },
  {
   "cell_type": "code",
   "execution_count": 10,
   "id": "2ef337e8",
   "metadata": {},
   "outputs": [
    {
     "data": {
      "text/plain": [
       "list"
      ]
     },
     "execution_count": 10,
     "metadata": {},
     "output_type": "execute_result"
    }
   ],
   "source": [
    "type(lst)"
   ]
  },
  {
   "cell_type": "code",
   "execution_count": 11,
   "id": "084eff90",
   "metadata": {},
   "outputs": [
    {
     "data": {
      "text/plain": [
       "[5, [100, 200, ['hello']], 23, 11]"
      ]
     },
     "execution_count": 11,
     "metadata": {},
     "output_type": "execute_result"
    }
   ],
   "source": [
    "lst[3]"
   ]
  },
  {
   "cell_type": "code",
   "execution_count": 13,
   "id": "ec3e5b55",
   "metadata": {},
   "outputs": [
    {
     "data": {
      "text/plain": [
       "[100, 200, ['hello']]"
      ]
     },
     "execution_count": 13,
     "metadata": {},
     "output_type": "execute_result"
    }
   ],
   "source": [
    "lst[3][1]"
   ]
  },
  {
   "cell_type": "code",
   "execution_count": 15,
   "id": "e7f05cb3",
   "metadata": {},
   "outputs": [
    {
     "data": {
      "text/plain": [
       "'hello'"
      ]
     },
     "execution_count": 15,
     "metadata": {},
     "output_type": "execute_result"
    }
   ],
   "source": [
    "lst[3][1][2][0]"
   ]
  },
  {
   "cell_type": "markdown",
   "id": "50c7e424",
   "metadata": {},
   "source": [
    "### 5)** Given this nested dictionary grab the word \"hello\". Be prepared, this will be annoying/tricky **\n",
    "d = {'k1':[1,2,3,{'tricky':['oh','man','inception',{'target':[1,2,3,'hello']}]}]}"
   ]
  },
  {
   "cell_type": "code",
   "execution_count": 16,
   "id": "2d6abc15",
   "metadata": {},
   "outputs": [],
   "source": [
    "d = {'k1':[1,2,3,{'tricky':['oh','man','inception',{'target':[1,2,3,'hello']}]}]}"
   ]
  },
  {
   "cell_type": "code",
   "execution_count": 17,
   "id": "e2c73268",
   "metadata": {},
   "outputs": [
    {
     "data": {
      "text/plain": [
       "dict"
      ]
     },
     "execution_count": 17,
     "metadata": {},
     "output_type": "execute_result"
    }
   ],
   "source": [
    "type(d)"
   ]
  },
  {
   "cell_type": "code",
   "execution_count": 23,
   "id": "bc3476e8",
   "metadata": {},
   "outputs": [
    {
     "data": {
      "text/plain": [
       "{'tricky': ['oh', 'man', 'inception', {'target': [1, 2, 3, 'hello']}]}"
      ]
     },
     "execution_count": 23,
     "metadata": {},
     "output_type": "execute_result"
    }
   ],
   "source": [
    "d['k1'][3]"
   ]
  },
  {
   "cell_type": "code",
   "execution_count": 25,
   "id": "593af279",
   "metadata": {},
   "outputs": [
    {
     "data": {
      "text/plain": [
       "['oh', 'man', 'inception', {'target': [1, 2, 3, 'hello']}]"
      ]
     },
     "execution_count": 25,
     "metadata": {},
     "output_type": "execute_result"
    }
   ],
   "source": [
    "d['k1'][3]['tricky']"
   ]
  },
  {
   "cell_type": "code",
   "execution_count": 26,
   "id": "6e2c4d4e",
   "metadata": {},
   "outputs": [
    {
     "data": {
      "text/plain": [
       "{'target': [1, 2, 3, 'hello']}"
      ]
     },
     "execution_count": 26,
     "metadata": {},
     "output_type": "execute_result"
    }
   ],
   "source": [
    "d['k1'][3]['tricky'][3]"
   ]
  },
  {
   "cell_type": "code",
   "execution_count": 27,
   "id": "90f9c359",
   "metadata": {},
   "outputs": [
    {
     "data": {
      "text/plain": [
       "'hello'"
      ]
     },
     "execution_count": 27,
     "metadata": {},
     "output_type": "execute_result"
    }
   ],
   "source": [
    "d['k1'][3]['tricky'][3]['target'][3]"
   ]
  },
  {
   "cell_type": "markdown",
   "id": "eb318f71",
   "metadata": {},
   "source": [
    "### 6)** Create a function that grabs the email website domain from a string in the form: **\n",
    "\n",
    "    user@domain.com\n",
    "    \n",
    "**So for example, passing \"user@domain.com\" would return: domain.com**"
   ]
  },
  {
   "cell_type": "code",
   "execution_count": 54,
   "id": "be291575",
   "metadata": {},
   "outputs": [
    {
     "name": "stdout",
     "output_type": "stream",
     "text": [
      "Enter your email address:user@domain.com\n",
      "domain.com\n"
     ]
    }
   ],
   "source": [
    "data=input(\"Enter your email address:\")\n",
    "def get_dom(data):\n",
    "    return data.split('@')[-1]\n",
    "print(get_dom(data))"
   ]
  },
  {
   "cell_type": "code",
   "execution_count": 52,
   "id": "ab49c05a",
   "metadata": {},
   "outputs": [
    {
     "data": {
      "text/plain": [
       "'gmail.com'"
      ]
     },
     "execution_count": 52,
     "metadata": {},
     "output_type": "execute_result"
    }
   ],
   "source": [
    "get_dom(data)"
   ]
  },
  {
   "cell_type": "code",
   "execution_count": 57,
   "id": "b564d538",
   "metadata": {},
   "outputs": [],
   "source": [
    "email='user@domain.com'\n",
    "def get_domain(email):\n",
    "    return email.split('@')[-1]"
   ]
  },
  {
   "cell_type": "code",
   "execution_count": 41,
   "id": "e64a80be",
   "metadata": {},
   "outputs": [
    {
     "data": {
      "text/plain": [
       "'domain.com'"
      ]
     },
     "execution_count": 41,
     "metadata": {},
     "output_type": "execute_result"
    }
   ],
   "source": [
    "get_domain(email)"
   ]
  },
  {
   "cell_type": "markdown",
   "id": "90a85192",
   "metadata": {},
   "source": [
    "### 7)** Create a basic function that returns True if the word 'dog' is contained in the input string. \n",
    "Don't worry about edge cases like a punctuation being attached to the word dog, but do account for capitalization. **\n"
   ]
  },
  {
   "cell_type": "code",
   "execution_count": 59,
   "id": "ec6b7334",
   "metadata": {},
   "outputs": [],
   "source": [
    "s='Is there a dog here?'\n",
    "def dog_find(s):\n",
    "    if 'dog' in s.split():\n",
    "        return 'True'\n",
    "    elif 'Dog' in s.split():\n",
    "        return 'False'"
   ]
  },
  {
   "cell_type": "code",
   "execution_count": 60,
   "id": "91ad2247",
   "metadata": {},
   "outputs": [
    {
     "data": {
      "text/plain": [
       "'True'"
      ]
     },
     "execution_count": 60,
     "metadata": {},
     "output_type": "execute_result"
    }
   ],
   "source": [
    "dog_find(s)"
   ]
  },
  {
   "cell_type": "code",
   "execution_count": 69,
   "id": "dfe04bd1",
   "metadata": {},
   "outputs": [],
   "source": [
    "s='Is there any dog here?'\n",
    "def dog_find(s):\n",
    "    if 'dog' in s.split():\n",
    "        return 'True'\n",
    "    elif 'Dog' in s.split():\n",
    "        return 'True'\n",
    "    else:\n",
    "        return 'False'"
   ]
  },
  {
   "cell_type": "code",
   "execution_count": 70,
   "id": "08615b15",
   "metadata": {},
   "outputs": [
    {
     "data": {
      "text/plain": [
       "'True'"
      ]
     },
     "execution_count": 70,
     "metadata": {},
     "output_type": "execute_result"
    }
   ],
   "source": [
    "dog_find(s)"
   ]
  },
  {
   "cell_type": "code",
   "execution_count": 66,
   "id": "206b639e",
   "metadata": {},
   "outputs": [
    {
     "name": "stdout",
     "output_type": "stream",
     "text": [
      "Enter any string:is there any Dog Here?\n",
      "True\n"
     ]
    }
   ],
   "source": [
    "s1=input(\"Enter any string:\")\n",
    "def dog_find(s1):\n",
    "    if 'dog' in s1.split():\n",
    "        return 'True'\n",
    "    elif 'Dog' in s1.split():\n",
    "        return 'True'\n",
    "    else:\n",
    "        return False\n",
    "print(dog_find(s1))"
   ]
  },
  {
   "cell_type": "markdown",
   "id": "e7baf4a5",
   "metadata": {},
   "source": [
    "### 8) ** Create a function that counts the number of times the word \"dog\" occurs in a string. Again ignore edge cases. **\n"
   ]
  },
  {
   "cell_type": "code",
   "execution_count": 98,
   "id": "368112de",
   "metadata": {},
   "outputs": [
    {
     "name": "stdout",
     "output_type": "stream",
     "text": [
      "2\n"
     ]
    }
   ],
   "source": [
    "s='This Dog runs faster than the other dog dude!'\n",
    "def count_dog(s):\n",
    "    count=0\n",
    "    for w in s.lower().split():\n",
    "        if w=='dog':\n",
    "            count+=1\n",
    "    return count\n",
    "print(count_dog(s))"
   ]
  },
  {
   "cell_type": "markdown",
   "id": "4e36127f",
   "metadata": {},
   "source": [
    "### 9) ** Use lambda expressions and the filter() function to filter out words from a list that don't start with the letter 's'. For example:**\n",
    "\n",
    "seq = ['soup','dog','salad','cat','great']\n",
    "should be filtered down to:\n",
    "\n",
    "['soup','salad']"
   ]
  },
  {
   "cell_type": "code",
   "execution_count": 99,
   "id": "1ebc1917",
   "metadata": {},
   "outputs": [],
   "source": [
    "seq = ['soup','dog','salad','cat','great']"
   ]
  },
  {
   "cell_type": "code",
   "execution_count": 100,
   "id": "3d30e323",
   "metadata": {},
   "outputs": [
    {
     "data": {
      "text/plain": [
       "list"
      ]
     },
     "execution_count": 100,
     "metadata": {},
     "output_type": "execute_result"
    }
   ],
   "source": [
    "type(seq)"
   ]
  },
  {
   "cell_type": "code",
   "execution_count": 106,
   "id": "224d41d7",
   "metadata": {},
   "outputs": [],
   "source": [
    "list1=list(filter(lambda v:v[0]=='s',seq))"
   ]
  },
  {
   "cell_type": "code",
   "execution_count": 107,
   "id": "615ad9b0",
   "metadata": {},
   "outputs": [
    {
     "data": {
      "text/plain": [
       "['soup', 'salad']"
      ]
     },
     "execution_count": 107,
     "metadata": {},
     "output_type": "execute_result"
    }
   ],
   "source": [
    "list1"
   ]
  },
  {
   "cell_type": "markdown",
   "id": "ff105e6b",
   "metadata": {},
   "source": [
    "### 10) Final Problem\n",
    "*You are driving a little too fast, and a police officer stops you. \n",
    "Write a function to return one of 3 possible results: \"No ticket\", \"Small ticket\", or \"Big Ticket\". \n",
    "If your speed is 60 or less, the result is \"No Ticket\". If speed is between 61 and 80 inclusive, \n",
    "the result is \"Small Ticket\". If speed is 81 or more, the result is \"Big Ticket\". \n",
    "Unless it is your birthday (encoded as a boolean value in the parameters of the function) \n",
    "-- on your birthday, your speed can be 5 higher in all cases. *"
   ]
  },
  {
   "cell_type": "code",
   "execution_count": 119,
   "id": "9fd1aa8f",
   "metadata": {},
   "outputs": [],
   "source": [
    "def cat_speed(birthday,speed):\n",
    "    if birthday:\n",
    "        new_speed=speed-5\n",
    "    else:\n",
    "        new_speed=speed\n",
    "    if new_speed>=81:\n",
    "        return \"Big Ticket\"\n",
    "    elif new_speed>=61:\n",
    "        return \"Small Ticket\"\n",
    "    else:\n",
    "        return \"No Ticket\""
   ]
  },
  {
   "cell_type": "code",
   "execution_count": 120,
   "id": "b0e9e2fb",
   "metadata": {},
   "outputs": [
    {
     "data": {
      "text/plain": [
       "'Small Ticket'"
      ]
     },
     "execution_count": 120,
     "metadata": {},
     "output_type": "execute_result"
    }
   ],
   "source": [
    "cat_speed(True,68)"
   ]
  },
  {
   "cell_type": "code",
   "execution_count": 121,
   "id": "588f050b",
   "metadata": {},
   "outputs": [
    {
     "data": {
      "text/plain": [
       "'Small Ticket'"
      ]
     },
     "execution_count": 121,
     "metadata": {},
     "output_type": "execute_result"
    }
   ],
   "source": [
    "cat_speed(False,68)"
   ]
  },
  {
   "cell_type": "code",
   "execution_count": 124,
   "id": "0f6906c1",
   "metadata": {},
   "outputs": [
    {
     "data": {
      "text/plain": [
       "'Big Ticket'"
      ]
     },
     "execution_count": 124,
     "metadata": {},
     "output_type": "execute_result"
    }
   ],
   "source": [
    "cat_speed(True,87)"
   ]
  },
  {
   "cell_type": "markdown",
   "id": "76aa145f",
   "metadata": {},
   "source": [
    "### 11)Question\n",
    "Given a string print number num by extracting all the\n",
    "digits from the string as in string\n",
    "Print negative number if the first character in \n",
    "string is '-'\n",
    "eg.\n",
    "-123abcd should return -123,abcd456-->456,fdhfh78dsd89--->7889,-56dssd78-->-5678"
   ]
  },
  {
   "cell_type": "code",
   "execution_count": 129,
   "id": "7e66d46c",
   "metadata": {},
   "outputs": [
    {
     "ename": "SyntaxError",
     "evalue": "invalid syntax (4113631632.py, line 7)",
     "output_type": "error",
     "traceback": [
      "\u001b[1;36m  Input \u001b[1;32mIn [129]\u001b[1;36m\u001b[0m\n\u001b[1;33m    if a in str(x)\u001b[0m\n\u001b[1;37m                  ^\u001b[0m\n\u001b[1;31mSyntaxError\u001b[0m\u001b[1;31m:\u001b[0m invalid syntax\n"
     ]
    }
   ],
   "source": [
    "s1=input(\"enter the number:\")\n",
    "number=\"\"\n",
    "x=[0,1,2,3,4,5,6,7,8,9]\n",
    "if s[0]=='-':\n",
    "    number=number+s1[0]\n",
    "for a in s1:\n",
    "    if a in str(x)\n",
    "        number=number+a\n",
    "print(number)"
   ]
  },
  {
   "cell_type": "code",
   "execution_count": 130,
   "id": "690a3066",
   "metadata": {},
   "outputs": [
    {
     "name": "stdout",
     "output_type": "stream",
     "text": [
      "enter the number:-gh123\n",
      "123\n"
     ]
    }
   ],
   "source": [
    "s1=input(\"enter the number:\")\n",
    "number=\"\"\n",
    "x=[0,1,2,3,4,5,6,7,8,9]\n",
    "if s[0]=='-':\n",
    "    number=number+s1[0]\n",
    "for a in s1:\n",
    "    if a in str(x):\n",
    "        number=number+a\n",
    "print(number)"
   ]
  },
  {
   "cell_type": "markdown",
   "id": "8a778c8d",
   "metadata": {},
   "source": [
    "### 12) Write a python function to find and display the five \n",
    "digit number in which the first digit is two more than \n",
    "the second,the second digit is two more than the third,\n",
    "the fourth digit is two less than the third, and the \n",
    "last digit is two more than\n",
    "the fourth.The sum of the third,fourth and fifth digits\n",
    "equals the first.The sum of all the digits is 19"
   ]
  },
  {
   "cell_type": "code",
   "execution_count": 137,
   "id": "4fc89d28",
   "metadata": {},
   "outputs": [],
   "source": [
    "def five_num():\n",
    "    for i in range(0,9):\n",
    "        a=i\n",
    "        b=i-2\n",
    "        c=i-4\n",
    "        d=i-6\n",
    "        e=i-4\n",
    "        if(c+d+e==a):\n",
    "            if(a+b+c+d+e==19):\n",
    "                return str(a)+str(b)+str(c)+str(d)+str(e)"
   ]
  },
  {
   "cell_type": "code",
   "execution_count": 138,
   "id": "99ff3a52",
   "metadata": {},
   "outputs": [
    {
     "name": "stdout",
     "output_type": "stream",
     "text": [
      "75313\n"
     ]
    }
   ],
   "source": [
    "print(five_num())"
   ]
  },
  {
   "cell_type": "markdown",
   "id": "2886b0d6",
   "metadata": {},
   "source": [
    "### 13) Q2\n",
    "WAP to check whether a number is palindrome or not on following conditions.\n",
    "1. take input number\n",
    "2. add number and its reverse\n",
    "3. check that number is palindrome or not,if not then sum and its reverse"
   ]
  },
  {
   "cell_type": "code",
   "execution_count": 146,
   "id": "8d06aab9",
   "metadata": {},
   "outputs": [
    {
     "name": "stdout",
     "output_type": "stream",
     "text": [
      "enter the number88\n",
      "Number is : 847\n"
     ]
    },
    {
     "ename": "TypeError",
     "evalue": "'int' object is not subscriptable",
     "output_type": "error",
     "traceback": [
      "\u001b[1;31m---------------------------------------------------------------------------\u001b[0m",
      "\u001b[1;31mTypeError\u001b[0m                                 Traceback (most recent call last)",
      "Input \u001b[1;32mIn [146]\u001b[0m, in \u001b[0;36m<cell line: 4>\u001b[1;34m()\u001b[0m\n\u001b[0;32m      5\u001b[0m     number3\u001b[38;5;241m=\u001b[39m\u001b[38;5;28mint\u001b[39m(number3)\u001b[38;5;241m+\u001b[39m\u001b[38;5;28mint\u001b[39m(number3[::\u001b[38;5;241m-\u001b[39m\u001b[38;5;241m1\u001b[39m])\n\u001b[0;32m      6\u001b[0m     \u001b[38;5;28mprint\u001b[39m(\u001b[38;5;124m\"\u001b[39m\u001b[38;5;124mNumber is :\u001b[39m\u001b[38;5;124m\"\u001b[39m,number3)\n\u001b[1;32m----> 7\u001b[0m     \u001b[38;5;28mprint\u001b[39m(\u001b[38;5;124m\"\u001b[39m\u001b[38;5;124mReverse is :\u001b[39m\u001b[38;5;124m\"\u001b[39m,\u001b[43mnumber3\u001b[49m\u001b[43m[\u001b[49m\u001b[43m:\u001b[49m\u001b[43m:\u001b[49m\u001b[38;5;241;43m-\u001b[39;49m\u001b[38;5;241;43m1\u001b[39;49m\u001b[43m]\u001b[49m)\n\u001b[0;32m      8\u001b[0m \u001b[38;5;28mprint\u001b[39m(\u001b[38;5;124m\"\u001b[39m\u001b[38;5;124mReverse is :\u001b[39m\u001b[38;5;124m\"\u001b[39m,number3)\n",
      "\u001b[1;31mTypeError\u001b[0m: 'int' object is not subscriptable"
     ]
    }
   ],
   "source": [
    "number1=input(\"enter the number\")\n",
    "number2=int(number1[::-1])\n",
    "number3=str(int(number1)+number2)\n",
    "while number3!=number3[::-1]:\n",
    "    number3=int(number3)+int(number3[::-1])\n",
    "    print(\"Number is :\",number3)\n",
    "    print(\"Reverse is :\",number3[::-1])\n",
    "print(\"Reverse is :\",number3)\n"
   ]
  },
  {
   "cell_type": "code",
   "execution_count": 147,
   "id": "df9a9064",
   "metadata": {},
   "outputs": [
    {
     "name": "stdout",
     "output_type": "stream",
     "text": [
      "enter the number88\n",
      "Number is : 847\n",
      "Reverse is : 748\n",
      "Number is : 1595\n",
      "Reverse is : 5951\n",
      "Number is : 7546\n",
      "Reverse is : 6457\n",
      "Number is : 14003\n",
      "Reverse is : 30041\n",
      "Number is : 44044\n",
      "Reverse is : 44044\n",
      "Reverse is : 44044\n"
     ]
    }
   ],
   "source": [
    "number1=input(\"enter the number\")\n",
    "number2=int(number1[::-1])\n",
    "number3=str(int(number1)+number2)\n",
    "while number3!=number3[::-1]:\n",
    "    number3=str(int(number3)+int(number3[::-1]))\n",
    "    print(\"Number is :\",number3)\n",
    "    print(\"Reverse is :\",number3[::-1])\n",
    "print(\"Reverse is :\",number3)\n"
   ]
  },
  {
   "cell_type": "raw",
   "id": "1dd7c833",
   "metadata": {},
   "source": []
  }
 ],
 "metadata": {
  "kernelspec": {
   "display_name": "Python 3 (ipykernel)",
   "language": "python",
   "name": "python3"
  },
  "language_info": {
   "codemirror_mode": {
    "name": "ipython",
    "version": 3
   },
   "file_extension": ".py",
   "mimetype": "text/x-python",
   "name": "python",
   "nbconvert_exporter": "python",
   "pygments_lexer": "ipython3",
   "version": "3.9.12"
  }
 },
 "nbformat": 4,
 "nbformat_minor": 5
}
